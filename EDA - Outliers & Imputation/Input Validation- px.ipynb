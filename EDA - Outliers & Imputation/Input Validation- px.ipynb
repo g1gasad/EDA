{
 "cells": [
  {
   "cell_type": "code",
   "execution_count": null,
   "id": "ed2e4734-a990-4c46-9478-b3a5ebe45599",
   "metadata": {
    "tags": []
   },
   "outputs": [],
   "source": [
    "import datetime\n",
    "import pandas as pd\n",
    "import matplotlib.pyplot as plt\n",
    "import seaborn as sns\n",
    "import plotly.express as px"
   ]
  },
  {
   "cell_type": "code",
   "execution_count": null,
   "id": "9f572608-0ac7-4a32-9b8c-9fea844526a6",
   "metadata": {
    "tags": []
   },
   "outputs": [],
   "source": [
    "df = pd.read_csv('E:\\Downloads\\SOCIAL Drive - Downloads\\Files\\Files\\home\\jovyan\\work\\eda_input_validation_joining_dataset1.csv')\n",
    "df.head()"
   ]
  },
  {
   "cell_type": "code",
   "execution_count": null,
   "id": "c2bc8776-57aa-40e3-bb89-38574f11dcfb",
   "metadata": {
    "tags": []
   },
   "outputs": [],
   "source": [
    "df.dtypes"
   ]
  },
  {
   "cell_type": "code",
   "execution_count": null,
   "id": "ab8b1134-3373-4c36-94b7-28eb3ef5d733",
   "metadata": {
    "tags": []
   },
   "outputs": [],
   "source": [
    "df['date'] = pd.to_datetime(df['date'])"
   ]
  },
  {
   "cell_type": "code",
   "execution_count": null,
   "id": "d85ced33-beba-48eb-9e35-6e60cbf44be8",
   "metadata": {
    "tags": []
   },
   "outputs": [],
   "source": [
    "df.isnull().sum()"
   ]
  },
  {
   "cell_type": "code",
   "execution_count": null,
   "id": "22c176b3-72fa-4ecf-b558-7bcbf29a0494",
   "metadata": {
    "tags": []
   },
   "outputs": [],
   "source": [
    "df.describe(include='all')"
   ]
  },
  {
   "cell_type": "code",
   "execution_count": null,
   "id": "9145bac8-85c2-40ab-b4ed-cc24a442f06b",
   "metadata": {
    "tags": []
   },
   "outputs": [],
   "source": [
    "# Find missing dates by comparing all dates in 2018 to dates in our \"date\" column\n",
    "full_data_range = pd.date_range(start='2018-01-01', end='2018-12-31')\n",
    "full_data_range.difference(df['date'])\n",
    "# We have four consecutive days missing in June and 2 in September amd Dec resp."
   ]
  },
  {
   "cell_type": "code",
   "execution_count": null,
   "id": "b7b506c6-b655-450b-aa3b-619fda485c07",
   "metadata": {
    "tags": []
   },
   "outputs": [],
   "source": [
    "# Make a boxplot to see the range better\n",
    "sns.boxplot(y= df['number_of_strikes'])"
   ]
  },
  {
   "cell_type": "code",
   "execution_count": null,
   "id": "89594257-4922-4daa-ac8c-d6d38decad1c",
   "metadata": {
    "tags": []
   },
   "outputs": [],
   "source": [
    "# Make a boxplot without outliers\n",
    "sns.boxplot(y = df['number_of_strikes'], showfliers=False)"
   ]
  },
  {
   "cell_type": "code",
   "execution_count": null,
   "id": "bde928d3-c9e5-4bc7-a643-b9d90a4d90f0",
   "metadata": {
    "tags": []
   },
   "outputs": [],
   "source": [
    "# Plot points on map to verify that the data is all from US\n",
    "df_points = df[['latitude', 'longitude']].drop_duplicates() #drop duplicates\n",
    "df_points.head()"
   ]
  },
  {
   "cell_type": "code",
   "execution_count": null,
   "id": "b8d4befb-c9bf-4f00-9604-190a8a67c6be",
   "metadata": {
    "tags": []
   },
   "outputs": [],
   "source": [
    "p = px.scatter_geo(df_points, lat='latitude', lon='longitude')\n",
    "p.show()"
   ]
  },
  {
   "cell_type": "code",
   "execution_count": null,
   "id": "6a14121f-7b46-4917-adc4-b20f919d305b",
   "metadata": {},
   "outputs": [],
   "source": []
  }
 ],
 "metadata": {
  "kernelspec": {
   "display_name": "Python 3 (ipykernel)",
   "language": "python",
   "name": "python3"
  },
  "language_info": {
   "codemirror_mode": {
    "name": "ipython",
    "version": 3
   },
   "file_extension": ".py",
   "mimetype": "text/x-python",
   "name": "python",
   "nbconvert_exporter": "python",
   "pygments_lexer": "ipython3",
   "version": "3.11.5"
  }
 },
 "nbformat": 4,
 "nbformat_minor": 5
}
