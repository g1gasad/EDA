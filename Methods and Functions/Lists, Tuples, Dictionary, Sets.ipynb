{
 "cells": [
  {
   "cell_type": "code",
   "execution_count": 1,
   "id": "855738f4-d479-4199-97e8-d17bd1981427",
   "metadata": {},
   "outputs": [
    {
     "data": {
      "text/plain": [
       "['d', 'u', 'm', 'b']"
      ]
     },
     "execution_count": 1,
     "metadata": {},
     "output_type": "execute_result"
    }
   ],
   "source": [
    "a = ' dumb'\n",
    "a = a.strip()\n",
    "list(a)"
   ]
  },
  {
   "cell_type": "code",
   "execution_count": 2,
   "id": "f5e9943a-71e2-4172-9cf7-dfe2dfd8702e",
   "metadata": {
    "tags": []
   },
   "outputs": [
    {
     "name": "stdout",
     "output_type": "stream",
     "text": [
      "['Kiwi', 'Melon', 'Apple', 'Banana', 'Pineapple']\n"
     ]
    }
   ],
   "source": [
    "# The append() method adds an element to the end of a list.\n",
    "fruits = ['Pineapple', 'Banana', 'Apple', 'Melon']\n",
    "fruits.append('Kiwi')\n",
    "# print(fruits)\n",
    "fruits.reverse()\n",
    "print(fruits)"
   ]
  },
  {
   "cell_type": "code",
   "execution_count": 3,
   "id": "7189b71c-f5a8-4334-89ae-78dfdac1e67e",
   "metadata": {
    "tags": []
   },
   "outputs": [
    {
     "data": {
      "text/plain": [
       "['Kiwi', 'Melon', 'Grapes', 'Apple', 'Banana', 'Pineapple']"
      ]
     },
     "execution_count": 3,
     "metadata": {},
     "output_type": "execute_result"
    }
   ],
   "source": [
    "fruits.insert(2, 'Grapes')\n",
    "fruits"
   ]
  },
  {
   "cell_type": "code",
   "execution_count": 4,
   "id": "98239117-db07-448f-8c81-c0da0cb7b116",
   "metadata": {
    "tags": []
   },
   "outputs": [
    {
     "name": "stdout",
     "output_type": "stream",
     "text": [
      "['Kiwi', 'Melon', 'Grapes', 'Apple', 'Pineapple']\n"
     ]
    }
   ],
   "source": [
    "# The remove() method deletes the first occurrence of an element in a list.\n",
    "fruits.remove('Banana')\n",
    "print(fruits)"
   ]
  },
  {
   "cell_type": "code",
   "execution_count": 5,
   "id": "a9519167-3c05-42f7-a7af-0db673ffc178",
   "metadata": {
    "tags": []
   },
   "outputs": [
    {
     "name": "stdout",
     "output_type": "stream",
     "text": [
      "['Kiwi', 'Melon', 'Apple', 'Pineapple']\n"
     ]
    }
   ],
   "source": [
    "# The pop() method removes the element at a given index and returns it.\n",
    "# If no index is given, it removes and returns the last element.\n",
    "fruits.pop(2)\n",
    "print(fruits)"
   ]
  },
  {
   "cell_type": "code",
   "execution_count": 6,
   "id": "23fa3a59-a412-4224-a530-145d61c76aa4",
   "metadata": {
    "tags": []
   },
   "outputs": [
    {
     "data": {
      "text/plain": [
       "'Pineapple'"
      ]
     },
     "execution_count": 6,
     "metadata": {},
     "output_type": "execute_result"
    }
   ],
   "source": [
    "fruits.pop()"
   ]
  },
  {
   "cell_type": "code",
   "execution_count": 7,
   "id": "6760174b-b392-40f5-b7d3-d1ac78dfe70e",
   "metadata": {
    "tags": []
   },
   "outputs": [
    {
     "data": {
      "text/plain": [
       "['Kiwi', 'Melon', 'Apple']"
      ]
     },
     "execution_count": 7,
     "metadata": {},
     "output_type": "execute_result"
    }
   ],
   "source": [
    "fruits"
   ]
  },
  {
   "cell_type": "code",
   "execution_count": 8,
   "id": "895ce658-f9c1-4063-9c07-12cb13265f66",
   "metadata": {
    "tags": []
   },
   "outputs": [],
   "source": [
    "fruits[2] = 'Apple'"
   ]
  },
  {
   "cell_type": "code",
   "execution_count": 9,
   "id": "f23b19a5-395a-400d-b397-2a07156f2d3b",
   "metadata": {
    "tags": []
   },
   "outputs": [
    {
     "name": "stdout",
     "output_type": "stream",
     "text": [
      "[2.21, 'gigawatts']\n"
     ]
    }
   ],
   "source": [
    "# Lists are mutable because you can overwrite their elements\n",
    "power = [1.21, 'gigawatts']\n",
    "power[0] = 2.21\n",
    "print(power)"
   ]
  },
  {
   "cell_type": "code",
   "execution_count": 10,
   "id": "e7db9926-de7c-41cf-848b-5e919250b025",
   "metadata": {
    "tags": []
   },
   "outputs": [
    {
     "ename": "TypeError",
     "evalue": "'tuple' object does not support item assignment",
     "output_type": "error",
     "traceback": [
      "\u001b[1;31m---------------------------------------------------------------------------\u001b[0m",
      "\u001b[1;31mTypeError\u001b[0m                                 Traceback (most recent call last)",
      "Cell \u001b[1;32mIn[10], line 5\u001b[0m\n\u001b[0;32m      2\u001b[0m fullname \u001b[38;5;241m=\u001b[39m (\u001b[38;5;124m'\u001b[39m\u001b[38;5;124mMasha\u001b[39m\u001b[38;5;124m'\u001b[39m, \u001b[38;5;124m'\u001b[39m\u001b[38;5;124mZ\u001b[39m\u001b[38;5;124m'\u001b[39m, \u001b[38;5;124m'\u001b[39m\u001b[38;5;124mHopper\u001b[39m\u001b[38;5;124m'\u001b[39m)\n\u001b[0;32m      4\u001b[0m \u001b[38;5;66;03m# Tuples are immutable, so their elements cannot be overwritten.\u001b[39;00m\n\u001b[1;32m----> 5\u001b[0m \u001b[43mfullname\u001b[49m\u001b[43m[\u001b[49m\u001b[38;5;241;43m2\u001b[39;49m\u001b[43m]\u001b[49m \u001b[38;5;241m=\u001b[39m \u001b[38;5;124m'\u001b[39m\u001b[38;5;124mCopper\u001b[39m\u001b[38;5;124m'\u001b[39m\n\u001b[0;32m      6\u001b[0m \u001b[38;5;28mprint\u001b[39m(fullname)\n",
      "\u001b[1;31mTypeError\u001b[0m: 'tuple' object does not support item assignment"
     ]
    }
   ],
   "source": [
    "# Tuples are instantiated with parentheses.\n",
    "fullname = ('Masha', 'Z', 'Hopper')\n",
    "\n",
    "# Tuples are immutable, so their elements cannot be overwritten.\n",
    "fullname[2] = 'Copper'\n",
    "print(fullname)"
   ]
  },
  {
   "cell_type": "code",
   "execution_count": null,
   "id": "5f46c5fd-a81f-4d07-abaf-6ebed58d9306",
   "metadata": {
    "tags": []
   },
   "outputs": [],
   "source": [
    "# You can combine tuples using addition.\n",
    "fullname = fullname + ('Jr',)\n",
    "print(fullname)"
   ]
  },
  {
   "cell_type": "code",
   "execution_count": null,
   "id": "beb9da79-e71d-4bd3-9c9a-330efc9e6c22",
   "metadata": {
    "tags": []
   },
   "outputs": [],
   "source": [
    "ballers = ['Isco', 'Carvajal', 'Casemiro']\n",
    "ballers = tuple(ballers)\n",
    "ballers"
   ]
  },
  {
   "cell_type": "code",
   "execution_count": null,
   "id": "3f09f687-8ec6-45d6-950a-a4bba4eccc62",
   "metadata": {
    "tags": []
   },
   "outputs": [],
   "source": [
    "# Functions that return multiple values return them in a tuple.\n",
    "def to_dollars_cents(price):\n",
    "    '''\n",
    "    Split price (float) into dollars and cents.\n",
    "    '''\n",
    "    dollars = int(price // 1)\n",
    "    cents = round(price % 1 * 100)\n",
    "\n",
    "    return dollars, cents"
   ]
  },
  {
   "cell_type": "code",
   "execution_count": null,
   "id": "74b7eb3c-6d2b-4df5-aeae-72685a3dcb05",
   "metadata": {
    "tags": []
   },
   "outputs": [],
   "source": [
    "to_dollars_cents(100.33)"
   ]
  },
  {
   "cell_type": "code",
   "execution_count": null,
   "id": "67812376-e6e4-46cc-9b5e-1ede696511a8",
   "metadata": {
    "tags": []
   },
   "outputs": [],
   "source": [
    "# \"Unpacking\" a tuple allows a tuple's elements to be assigned to variables.\n",
    "dollars, cents = to_dollars_cents(6.55)\n",
    "print(dollars + 1)\n",
    "print(cents + 1)"
   ]
  },
  {
   "cell_type": "code",
   "execution_count": null,
   "id": "11adfa1e-c6d4-4bd4-a1cb-576e22fa22f8",
   "metadata": {
    "tags": []
   },
   "outputs": [],
   "source": [
    "# The data type of an element of an unpacked tuple is not necessarily a tuple.\n",
    "type(dollars)"
   ]
  },
  {
   "cell_type": "code",
   "execution_count": null,
   "id": "675d1afd-5707-4f02-8dde-bda792d42e10",
   "metadata": {
    "tags": []
   },
   "outputs": [],
   "source": [
    "# Create a list of tuples, each representing the name, age, and position of a\n",
    "# player on a basketball team.\n",
    "team = [('Marta', 20, 'center'),\n",
    "        ('Ana', 22, 'point guard'),\n",
    "        ('Gabi', 22, 'shooting guard'),\n",
    "        ('Luz', 21, 'power forward'),\n",
    "        ('Lorena', 19, 'small forward'),\n",
    "        ]"
   ]
  },
  {
   "cell_type": "code",
   "execution_count": null,
   "id": "92d4f328-7e3d-4438-8e9a-8bf03737a979",
   "metadata": {
    "tags": []
   },
   "outputs": [],
   "source": [
    "for name, age, position in team:\n",
    "    print(name, position)"
   ]
  },
  {
   "cell_type": "code",
   "execution_count": null,
   "id": "059ac873-cefa-45d5-907a-7da6665fbab4",
   "metadata": {
    "tags": []
   },
   "outputs": [],
   "source": [
    "# This code produces the same result as the code in the cell above.\n",
    "for player in team:\n",
    "    print(player[0], player[2])"
   ]
  },
  {
   "cell_type": "code",
   "execution_count": null,
   "id": "c6b66184-479b-47cb-b189-6e5f06c54574",
   "metadata": {
    "tags": []
   },
   "outputs": [],
   "source": [
    "# Create a function to extract and names and positions from the team list and\n",
    "# format them to be printed. Returns a list.\n",
    "def player_position(players):\n",
    "    result = []\n",
    "    for name, age, position in players:\n",
    "        result.append('Name: {:>19} \\nPosition: {:>15}\\n'.format(name, position))\n",
    "    return result"
   ]
  },
  {
   "cell_type": "code",
   "execution_count": null,
   "id": "4c8d52a1-c027-47a8-9877-5988118bf678",
   "metadata": {
    "tags": []
   },
   "outputs": [],
   "source": [
    "# Loop over the list of formatted names and positions produced by\n",
    "# player_position() function and print them.\n",
    "for player in player_position(team):\n",
    "    print(player)"
   ]
  },
  {
   "cell_type": "code",
   "execution_count": null,
   "id": "708217ff-3081-4423-9727-e405a1e50aa8",
   "metadata": {
    "tags": []
   },
   "outputs": [],
   "source": [
    "# Nested loops can produce the different combinations of pips (dots) in\n",
    "# a set of dominoes.\n",
    "for left in range(7):\n",
    "    for right in range(left, 7):\n",
    "        print(f\"[{left}|{right}]\", end=\" \")\n",
    "    print('\\n')"
   ]
  },
  {
   "cell_type": "code",
   "execution_count": null,
   "id": "12ca429c-2667-46fc-b976-3609fca950eb",
   "metadata": {
    "tags": []
   },
   "outputs": [],
   "source": [
    "# Create a list of dominoes, with each domino reprented as a tuple.\n",
    "dominoes = []\n",
    "for left in range(7):\n",
    "    for right in range(left, 7):\n",
    "        dominoes.append((left, right))\n",
    "dominoes"
   ]
  },
  {
   "cell_type": "code",
   "execution_count": null,
   "id": "99779d9e-3334-4530-9b86-6e48fe81a74c",
   "metadata": {
    "tags": []
   },
   "outputs": [],
   "source": [
    "sum_list = []\n",
    "for pair in dominoes:\n",
    "    sum_list.append(sum(pair))"
   ]
  },
  {
   "cell_type": "code",
   "execution_count": null,
   "id": "bfc7f224-d7bf-4d0f-9b04-fd07f2d4bf8f",
   "metadata": {
    "tags": []
   },
   "outputs": [],
   "source": [
    "sum_list"
   ]
  },
  {
   "cell_type": "code",
   "execution_count": null,
   "id": "cb600efa-f015-4569-befb-da1bad99cd1e",
   "metadata": {
    "tags": []
   },
   "outputs": [],
   "source": [
    "# [sum(pair) for pair in dominoes]"
   ]
  },
  {
   "cell_type": "code",
   "execution_count": null,
   "id": "2b7492df-5cfd-47f3-a2fc-1e7988593b0f",
   "metadata": {
    "tags": []
   },
   "outputs": [],
   "source": [
    "# Create a dictionary with pens as keys and the animals they contain as values.\n",
    "# Dictionaries can be instantiated using braces.\n",
    "zoo = {\n",
    "    'pen_1': 'penguins',\n",
    "    'pen_2': 'zebras',\n",
    "    'pen_3': 'lions',\n",
    "    }\n",
    "\n",
    "# Selecting the `pen_2` key returns `zebras`, the value stored at that key.\n",
    "zoo['pen_2']"
   ]
  },
  {
   "cell_type": "code",
   "execution_count": null,
   "id": "bd5239af-bd90-454b-9ddf-fcc245ade0f4",
   "metadata": {
    "tags": []
   },
   "outputs": [],
   "source": [
    "zoo['pen_3']"
   ]
  },
  {
   "cell_type": "code",
   "execution_count": null,
   "id": "b2d38867-d387-46e9-94fe-9a74a59beccc",
   "metadata": {
    "tags": []
   },
   "outputs": [],
   "source": [
    "# Another way to create a dictionary using the dict() function.\n",
    "zoo = dict(\n",
    "    [\n",
    "     ['pen_1', 'monkeys'],\n",
    "     ['pen_2', 'zebras'],\n",
    "     ['pen_3', 'lions'],\n",
    "    ]\n",
    ")\n",
    "\n",
    "zoo['pen_2']"
   ]
  },
  {
   "cell_type": "code",
   "execution_count": null,
   "id": "8d2a480d-2fd7-43c0-9faf-da9180c0becf",
   "metadata": {
    "tags": []
   },
   "outputs": [],
   "source": [
    "zoo"
   ]
  },
  {
   "cell_type": "code",
   "execution_count": null,
   "id": "b0e48098-0ab4-4454-816e-88288ea1c472",
   "metadata": {
    "tags": []
   },
   "outputs": [],
   "source": [
    "'pen_1' in zoo"
   ]
  },
  {
   "cell_type": "code",
   "execution_count": null,
   "id": "d3db2a75-76c1-47f4-b3ac-c83539e51275",
   "metadata": {
    "tags": []
   },
   "outputs": [],
   "source": [
    "# Create a list of tuples, each representing the name, age, and position of a\n",
    "# player on a basketball team.\n",
    "# Add new players to the list.\n",
    "team = [\n",
    "    ('Marta', 20, 'center'),\n",
    "    ('Ana', 22, 'point guard'),\n",
    "    ('Gabi', 22, 'shooting guard'),\n",
    "    ('Luz', 21, 'power forward'),\n",
    "    ('Lorena', 19, 'small forward'),\n",
    "    ('Sandra', 19, 'center'),\n",
    "    ('Mari', 18, 'point guard'),\n",
    "    ('Esme', 18, 'shooting guard'),\n",
    "    ('Lin', 18, 'power forward'),\n",
    "    ('Sol', 19, 'small forward'),\n",
    "    ]"
   ]
  },
  {
   "cell_type": "code",
   "execution_count": null,
   "id": "67b01664-6c3a-4175-8a45-ce481ef15671",
   "metadata": {
    "tags": []
   },
   "outputs": [],
   "source": [
    "new_team = {}\n",
    "\n",
    "for name, age, position in team:\n",
    "    if position in new_team:\n",
    "        new_team[position].append((name, age))\n",
    "    else:\n",
    "        new_team[position] = [(name, age)]\n",
    "        \n",
    "new_team"
   ]
  },
  {
   "cell_type": "code",
   "execution_count": null,
   "id": "9490c2c1-9aaf-4463-a9bb-3b551c925d07",
   "metadata": {
    "tags": []
   },
   "outputs": [],
   "source": [
    "for dic_keys in new_team:\n",
    "    print(dic_keys)"
   ]
  },
  {
   "cell_type": "code",
   "execution_count": null,
   "id": "1fdff70f-a32c-4722-918f-2b190a7ab00c",
   "metadata": {
    "tags": []
   },
   "outputs": [],
   "source": [
    "(new_team.keys())"
   ]
  },
  {
   "cell_type": "code",
   "execution_count": null,
   "id": "2bbd7ffc-7a5e-4e93-b205-e4c17417b2c1",
   "metadata": {
    "tags": []
   },
   "outputs": [],
   "source": [
    "new_team.values()\n",
    "for val in list(new_team.values()):\n",
    "    print(val)"
   ]
  },
  {
   "cell_type": "code",
   "execution_count": null,
   "id": "fb83e3b7-7e2e-4993-93ce-60bc190661ca",
   "metadata": {
    "tags": []
   },
   "outputs": [],
   "source": [
    "# The items() method returns both the keys and the values.\n",
    "for a, b in new_team.items():\n",
    "    print(a, b)"
   ]
  },
  {
   "cell_type": "code",
   "execution_count": null,
   "id": "c5dfbfde-4f52-4572-b533-2608d81c6b98",
   "metadata": {
    "tags": []
   },
   "outputs": [],
   "source": [
    "# The set() function converts a list to a set.\n",
    "x = set(['foo', 'bar', 'baz', 'foo'])\n",
    "print(x)"
   ]
  },
  {
   "cell_type": "code",
   "execution_count": null,
   "id": "aec9b2a0-2593-46fa-a472-b273b0bb5e6f",
   "metadata": {
    "tags": []
   },
   "outputs": [],
   "source": [
    "# The set() function converts a tuple to a set.\n",
    "x = set(('foo','bar','baz', 'foo'))\n",
    "print(x)"
   ]
  },
  {
   "cell_type": "code",
   "execution_count": null,
   "id": "d55b1048-48df-467a-b57e-c6957767ac92",
   "metadata": {
    "tags": []
   },
   "outputs": [],
   "source": [
    "# The set() function converts a string to a set.\n",
    "x = set('what the actual fuck')\n",
    "print(x)"
   ]
  },
  {
   "cell_type": "code",
   "execution_count": null,
   "id": "e1d30e1a-ef55-4d55-951e-1711950e3fd0",
   "metadata": {
    "tags": []
   },
   "outputs": [],
   "source": [
    "# You can use braces to instantiate a set\n",
    "x = {'foo'}\n",
    "print(type(x))\n",
    "\n",
    "# But empty braces are reserved for dictionaries.\n",
    "y = {}\n",
    "print(type(y))"
   ]
  },
  {
   "cell_type": "code",
   "execution_count": null,
   "id": "ed7520cf-ab76-48a0-8b50-ad1a16fb9988",
   "metadata": {
    "tags": []
   },
   "outputs": [],
   "source": [
    "# Instantiating a set with braces treats the contents as literals.\n",
    "x = {'foo'}\n",
    "print(x)"
   ]
  },
  {
   "cell_type": "code",
   "execution_count": null,
   "id": "bb82be31-bc74-4764-94f6-7fdbb87a2730",
   "metadata": {
    "tags": []
   },
   "outputs": [],
   "source": [
    "# The intersection() method (&) returns common elements between two sets.\n",
    "set1 = {1, 2, 3, 4, 5, 6}\n",
    "set2 = {4, 5, 6, 7, 8, 9}\n",
    "print(set1.intersection(set2))\n",
    "print(set1 & set2)"
   ]
  },
  {
   "cell_type": "code",
   "execution_count": null,
   "id": "b4e48349-2b87-4a0a-8d94-31895b313b70",
   "metadata": {
    "tags": []
   },
   "outputs": [],
   "source": [
    "# The union() method (|) returns all the elements from two sets, each represented once.\n",
    "x1 = {'foo', 'bar', 'baz'}\n",
    "x2 = {'baz', 'qux', 'quux'}\n",
    "print(x1.union(x2))\n",
    "print(x1 | x2)"
   ]
  },
  {
   "cell_type": "code",
   "execution_count": null,
   "id": "24e2fec3-94b0-42b6-bb02-ba19469f3def",
   "metadata": {
    "tags": []
   },
   "outputs": [],
   "source": [
    "# The difference() method (-) returns the elements in set1 that aren't in set2\n",
    "set1 = {1, 2, 3, 4, 5, 6}\n",
    "set2 = {4, 5, 6, 7, 8, 9}\n",
    "print(set1.difference(set2))\n",
    "print(set1 - set2)"
   ]
  },
  {
   "cell_type": "code",
   "execution_count": null,
   "id": "a00d8c71-9890-411a-ab3a-7ff9dace8217",
   "metadata": {
    "tags": []
   },
   "outputs": [],
   "source": [
    "# ... and the elements in set2 that aren't in set1.\n",
    "print(set2.difference(set1))\n",
    "print(set2 - set1)"
   ]
  },
  {
   "cell_type": "code",
   "execution_count": null,
   "id": "3feab968-8b57-42b9-a510-edaa15e59ec2",
   "metadata": {
    "tags": []
   },
   "outputs": [],
   "source": [
    "# The symmetric_difference() method (^) returns all the values from each set that\n",
    "# are not in both sets.\n",
    "set1 = {1, 2, 3, 4, 5, 6}\n",
    "set2 = {4, 5, 6, 7, 8, 9}\n",
    "set2.symmetric_difference(set1)\n",
    "set2 ^ set1"
   ]
  },
  {
   "cell_type": "code",
   "execution_count": null,
   "id": "b1775c6a-b1a7-46d4-b310-1a954923285c",
   "metadata": {
    "tags": []
   },
   "outputs": [],
   "source": [
    "import numpy as np"
   ]
  },
  {
   "cell_type": "code",
   "execution_count": null,
   "id": "eb889d43-c07d-4ca2-bd11-2bf1ef405c9e",
   "metadata": {
    "tags": []
   },
   "outputs": [],
   "source": [
    "# Lists cannot be multiplied together.\n",
    "list_a = [1, 2, 3]\n",
    "list_b = [2, 4, 6]\n",
    "\n",
    "list_a * list_b"
   ]
  },
  {
   "cell_type": "code",
   "execution_count": null,
   "id": "66a7101e-c0f9-40c5-aef1-19200a562e50",
   "metadata": {
    "tags": []
   },
   "outputs": [],
   "source": [
    "# To perform element-wise multiplication between two lists, you could\n",
    "# use a for loop.\n",
    "list_c = []\n",
    "for i in range(len(list_a)):\n",
    "    list_c.append(list_a[i] * list_b[i])\n",
    "\n",
    "list_c"
   ]
  },
  {
   "cell_type": "code",
   "execution_count": null,
   "id": "f5870d63-4484-4ddf-a4a6-b3f692b1fadc",
   "metadata": {
    "tags": []
   },
   "outputs": [],
   "source": [
    "# NumPy arrays let you perform array operations.\n",
    "\n",
    "# Import numpy, aliased as np.\n",
    "import numpy as np\n",
    "\n",
    "# Convert lists to arrays.\n",
    "array_a = np.array(list_a)\n",
    "array_b = np.array(list_b)\n",
    "\n",
    "# Perform element-wise multiplication between the arrays.\n",
    "array_a * array_b"
   ]
  },
  {
   "cell_type": "code",
   "execution_count": null,
   "id": "f38001b5-0ddc-4c49-8c74-bbbf321d3fe1",
   "metadata": {
    "tags": []
   },
   "outputs": [],
   "source": [
    "import numpy as np\n",
    "\n",
    "# The np.array() function converts an object to an ndarray\n",
    "x = np.array([1, 2, 3, 4])\n",
    "x"
   ]
  },
  {
   "cell_type": "code",
   "execution_count": null,
   "id": "f77cabdb-ca5d-4415-9ea7-7277696e0e2e",
   "metadata": {
    "tags": []
   },
   "outputs": [],
   "source": [
    "x[2] = 7\n",
    "x"
   ]
  },
  {
   "cell_type": "code",
   "execution_count": null,
   "id": "b19009aa-4c6b-4798-8bf5-18284b19dfa3",
   "metadata": {
    "tags": []
   },
   "outputs": [],
   "source": [
    "# Arrays cast every element they contain as the same data type.\n",
    "arr = np.array([1, 2, 'coconut'])\n",
    "arr\n"
   ]
  },
  {
   "cell_type": "code",
   "execution_count": null,
   "id": "76b171bb-c54b-4aad-a72b-ae4e43d7ae84",
   "metadata": {
    "tags": []
   },
   "outputs": [],
   "source": [
    "# NumPy arrays are a class called `ndarray`.\n",
    "print(type(arr))"
   ]
  },
  {
   "cell_type": "code",
   "execution_count": null,
   "id": "b596c819-0c91-4ef4-9aa3-f07908754780",
   "metadata": {
    "tags": []
   },
   "outputs": [],
   "source": [
    "# The dtype attribute returns the data type of an array's contents.\n",
    "arr = np.array([[1, 2, 3],\n",
    "                [2, 5, 3]])\n",
    "arr.dtype"
   ]
  },
  {
   "cell_type": "code",
   "execution_count": null,
   "id": "91d7666a-707e-4cc9-af12-36759917ae86",
   "metadata": {
    "tags": []
   },
   "outputs": [],
   "source": [
    "arr.shape"
   ]
  },
  {
   "cell_type": "code",
   "execution_count": null,
   "id": "2aa57624-1d8d-46bb-8ee1-6471997875e7",
   "metadata": {
    "tags": []
   },
   "outputs": [],
   "source": [
    "arr.ndim"
   ]
  },
  {
   "cell_type": "code",
   "execution_count": null,
   "id": "e1a28a31-4a6b-4d62-bc31-f7d3a6a352ad",
   "metadata": {
    "tags": []
   },
   "outputs": [],
   "source": [
    "# Create a 2D array by passing a list of lists to np.array() function.\n",
    "arr_2d = np.array([[1, 2, 3, 4], [5, 6, 7, 8]])\n",
    "print(arr_2d.shape)\n",
    "print(arr_2d.ndim)\n",
    "arr_2d"
   ]
  },
  {
   "cell_type": "code",
   "execution_count": null,
   "id": "7b12bdba-7920-4791-a6c8-8aeadcd44101",
   "metadata": {
    "tags": []
   },
   "outputs": [],
   "source": [
    "# Create a 3D array by passing a list of two lists of lists to np.array() function.\n",
    "arr_3d = np.array([[[1, 2, 3],\n",
    "                   [3, 4, 5]],\n",
    "\n",
    "                  [[5, 6, 7],\n",
    "                   [7, 8, 9]]]\n",
    ")\n",
    "\n",
    "print(arr_3d.shape)\n",
    "print(arr_3d.ndim)\n",
    "arr_3d"
   ]
  },
  {
   "cell_type": "code",
   "execution_count": null,
   "id": "e8283b2e-3ae0-466c-80b5-37802f025030",
   "metadata": {
    "tags": []
   },
   "outputs": [],
   "source": [
    "# The reshape() method changes the shape of an array.\n",
    "arr_2d = arr_2d.reshape(2, 4)\n",
    "arr_2d"
   ]
  },
  {
   "cell_type": "code",
   "execution_count": null,
   "id": "9c7f87d3-5cf3-4eb9-93c8-8eafc4266b55",
   "metadata": {
    "tags": []
   },
   "outputs": [],
   "source": [
    "# Create new array\n",
    "arr = np.array([1, 2, 3, 4, 5])\n",
    "\n",
    "# The mean() method returns the mean of the elements in an array.\n",
    "np.mean(arr)"
   ]
  },
  {
   "cell_type": "code",
   "execution_count": null,
   "id": "fe6cda73-d340-45d7-998f-22cf087708bc",
   "metadata": {
    "tags": []
   },
   "outputs": [],
   "source": [
    "# The log() method returns the natural logarithm of the elements in an array.\n",
    "np.log(arr)"
   ]
  },
  {
   "cell_type": "code",
   "execution_count": null,
   "id": "f7dfeafc-a791-4d74-b112-7e940b3b106e",
   "metadata": {
    "tags": []
   },
   "outputs": [],
   "source": [
    "# The floor() method returns the value of a number rounded down\n",
    "# to the nearest integer.\n",
    "np.floor(5.7)"
   ]
  },
  {
   "cell_type": "code",
   "execution_count": null,
   "id": "7d63ee3f-b1cc-4b94-b843-c87eb7c147cd",
   "metadata": {
    "tags": []
   },
   "outputs": [],
   "source": [
    "np.ceil(86.2)"
   ]
  },
  {
   "cell_type": "code",
   "execution_count": null,
   "id": "5dc2e44b-7846-4067-86ac-1b8feb3324d0",
   "metadata": {
    "tags": []
   },
   "outputs": [],
   "source": [
    "# NumPy and pandas are typically imported together.\n",
    "# np and pd are conventional aliases.\n",
    "import numpy as np\n",
    "import pandas as pd"
   ]
  },
  {
   "cell_type": "code",
   "execution_count": null,
   "id": "156b2992-2cdf-4d7d-86e9-a04f49eb9211",
   "metadata": {},
   "outputs": [],
   "source": [
    "# Use iloc to access data using index numbers.\n",
    "# Select row 1, column 3.\n",
    "dataframe.iloc[1][3]"
   ]
  },
  {
   "cell_type": "code",
   "execution_count": null,
   "id": "ff20a020-0ab2-4b74-83db-0f76a56fbf96",
   "metadata": {},
   "outputs": [],
   "source": [
    "# Group customers by Sex and Pclass and calculate the total paid for each group\n",
    "# and the mean price paid for each group.\n",
    "fare = dataframe.groupby(['Sex', 'Pclass']).agg({'Fare': ['count', 'sum']})\n",
    "fare['fare_avg'] = round(fare['Fare']['sum'] / fare['Fare']['count'], 2)\n",
    "fare"
   ]
  },
  {
   "cell_type": "code",
   "execution_count": null,
   "id": "fb34c938-8d40-42af-bc9a-de5dfc1d57c1",
   "metadata": {
    "tags": []
   },
   "outputs": [],
   "source": [
    "# Use pd.DataFrame() function to create a dataframe from a NumPy array.\n",
    "df2 = pd.DataFrame(np.array([[1, 2, 3], [4, 5, 6], [7, 8, 9]]),\n",
    "                   columns=['a', 'b', 'c'], index=['x', 'y', 'z'])\n",
    "df2"
   ]
  },
  {
   "cell_type": "code",
   "execution_count": null,
   "id": "795c60c7-c1f1-4f60-b463-55aca8e8ee79",
   "metadata": {},
   "outputs": [],
   "source": [
    "# Use iloc to return a Series object of the data in row 0.\n",
    "titanic.iloc[0]"
   ]
  },
  {
   "cell_type": "code",
   "execution_count": null,
   "id": "8a96a667-b56a-4349-9fa0-9f00209447bc",
   "metadata": {},
   "outputs": [],
   "source": [
    "# Use iloc to return a DataFrame view of the data in row 0.\n",
    "titanic.iloc[[0]]"
   ]
  },
  {
   "cell_type": "code",
   "execution_count": null,
   "id": "4b43ebb8-eb22-4db8-ba04-cf8329de42fe",
   "metadata": {},
   "outputs": [],
   "source": []
  },
  {
   "cell_type": "code",
   "execution_count": null,
   "id": "7247d39f-603c-41ab-9e5e-cfe89dafd8b4",
   "metadata": {},
   "outputs": [],
   "source": []
  },
  {
   "cell_type": "code",
   "execution_count": null,
   "id": "04338a34-6b52-4423-9028-5f70686a2e92",
   "metadata": {},
   "outputs": [],
   "source": []
  },
  {
   "cell_type": "code",
   "execution_count": null,
   "id": "c3344dba-057f-48e8-a675-f0a57d3af7c6",
   "metadata": {},
   "outputs": [],
   "source": []
  }
 ],
 "metadata": {
  "kernelspec": {
   "display_name": "Python 3 (ipykernel)",
   "language": "python",
   "name": "python3"
  },
  "language_info": {
   "codemirror_mode": {
    "name": "ipython",
    "version": 3
   },
   "file_extension": ".py",
   "mimetype": "text/x-python",
   "name": "python",
   "nbconvert_exporter": "python",
   "pygments_lexer": "ipython3",
   "version": "3.11.3"
  }
 },
 "nbformat": 4,
 "nbformat_minor": 5
}
