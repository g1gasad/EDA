{
 "cells": [
  {
   "cell_type": "code",
   "execution_count": 1,
   "id": "f03221ae-efa8-4ec8-93d0-0b84b86eb104",
   "metadata": {},
   "outputs": [
    {
     "data": {
      "text/plain": [
       "{(1, 2, 2, 2, 3), 2, 'apple'}"
      ]
     },
     "execution_count": 1,
     "metadata": {},
     "output_type": "execute_result"
    }
   ],
   "source": [
    "example_b = ('apple', (1, 2, 2, 2, 3), 2)\n",
    "set(example_b)"
   ]
  },
  {
   "cell_type": "code",
   "execution_count": 2,
   "id": "6e8468c0-1a70-4c8e-8cca-e0688da6b81c",
   "metadata": {},
   "outputs": [
    {
     "data": {
      "text/plain": [
       "{1, 2, '2'}"
      ]
     },
     "execution_count": 2,
     "metadata": {},
     "output_type": "execute_result"
    }
   ],
   "source": [
    "example_a = [1, 2, 2.0, '2']\n",
    "set(example_a)"
   ]
  },
  {
   "cell_type": "code",
   "execution_count": 3,
   "id": "30e76277-6a96-412d-8368-a8d139515d69",
   "metadata": {},
   "outputs": [
    {
     "ename": "TypeError",
     "evalue": "unhashable type: 'set'",
     "output_type": "error",
     "traceback": [
      "\u001b[1;31m---------------------------------------------------------------------------\u001b[0m",
      "\u001b[1;31mTypeError\u001b[0m                                 Traceback (most recent call last)",
      "Cell \u001b[1;32mIn[3], line 2\u001b[0m\n\u001b[0;32m      1\u001b[0m example_c \u001b[38;5;241m=\u001b[39m [\u001b[38;5;241m1.5\u001b[39m, {\u001b[38;5;124m'\u001b[39m\u001b[38;5;124ma\u001b[39m\u001b[38;5;124m'\u001b[39m, \u001b[38;5;124m'\u001b[39m\u001b[38;5;124mb\u001b[39m\u001b[38;5;124m'\u001b[39m, \u001b[38;5;124m'\u001b[39m\u001b[38;5;124mc\u001b[39m\u001b[38;5;124m'\u001b[39m}, \u001b[38;5;241m1.5\u001b[39m]\n\u001b[1;32m----> 2\u001b[0m \u001b[38;5;28;43mset\u001b[39;49m\u001b[43m(\u001b[49m\u001b[43mexample_c\u001b[49m\u001b[43m)\u001b[49m\n",
      "\u001b[1;31mTypeError\u001b[0m: unhashable type: 'set'"
     ]
    }
   ],
   "source": [
    "example_c = [1.5, {'a', 'b', 'c'}, 1.5]\n",
    "set(example_c)"
   ]
  },
  {
   "cell_type": "code",
   "execution_count": 5,
   "id": "790b309f-02b1-4f95-9fd0-a023d8008b1a",
   "metadata": {},
   "outputs": [
    {
     "data": {
      "text/plain": [
       "{'elderberries', 'father', 'hamster', 'mother'}"
      ]
     },
     "execution_count": 5,
     "metadata": {},
     "output_type": "execute_result"
    }
   ],
   "source": [
    "example_d = {'mother', 'hamster', 'father'}\n",
    "example_d.add('elderberries')\n",
    "example_d"
   ]
  },
  {
   "cell_type": "code",
   "execution_count": 6,
   "id": "b3c88b31-60b1-4d38-9ace-79ab7eb498d5",
   "metadata": {},
   "outputs": [
    {
     "data": {
      "text/plain": [
       "{1.5, frozenset({'a', 'b', 'c'})}"
      ]
     },
     "execution_count": 6,
     "metadata": {},
     "output_type": "execute_result"
    }
   ],
   "source": [
    "example_e = [1.5, frozenset(['a', 'b', 'c']), 1.5]\n",
    "set(example_e)"
   ]
  },
  {
   "cell_type": "code",
   "execution_count": 11,
   "id": "5cfed7b0-d630-4319-95cc-301f8204514f",
   "metadata": {},
   "outputs": [
    {
     "name": "stdout",
     "output_type": "stream",
     "text": [
      "{'b', 'd', 'a', 'c'}\n",
      "{'b', 'd', 'a', 'c'}\n"
     ]
    }
   ],
   "source": [
    "set_1 = {'a', 'b', 'c'}\n",
    "set_2 = {'b', 'c', 'd'}\n",
    "print(set_1.union(set_2))\n",
    "print(set_1 | set_2)"
   ]
  },
  {
   "cell_type": "code",
   "execution_count": 13,
   "id": "6f31b0b8-1fb7-4221-9f90-d6f93a6ffa83",
   "metadata": {},
   "outputs": [
    {
     "name": "stdout",
     "output_type": "stream",
     "text": [
      "{'b', 'c'}\n",
      "{'b', 'c'}\n"
     ]
    }
   ],
   "source": [
    "set_1 = {'a', 'b', 'c'}\n",
    "set_2 = {'b', 'c', 'd'}\n",
    "\n",
    "print(set_1.intersection(set_2))\n",
    "print(set_1 & set_2)"
   ]
  },
  {
   "cell_type": "code",
   "execution_count": 17,
   "id": "bb8b4ea2-d56e-408e-abd6-b3a329445402",
   "metadata": {},
   "outputs": [
    {
     "name": "stdout",
     "output_type": "stream",
     "text": [
      "{'a'}\n",
      "{'a'}\n",
      "{'d'}\n",
      "{'d'}\n"
     ]
    }
   ],
   "source": [
    "print(set_1.difference(set_2))\n",
    "print(set_1 - set_2)\n",
    "\n",
    "print(set_2.difference(set_1))\n",
    "print(set_2 - set_1)"
   ]
  },
  {
   "cell_type": "code",
   "execution_count": 19,
   "id": "abd4b7e7-f657-45f6-947c-4e9ce1084444",
   "metadata": {},
   "outputs": [
    {
     "name": "stdout",
     "output_type": "stream",
     "text": [
      "{'d', 'a'}\n",
      "{'d', 'a'}\n"
     ]
    }
   ],
   "source": [
    "print(set_1.symmetric_difference(set_2))\n",
    "print(set_2.symmetric_difference(set_1))"
   ]
  },
  {
   "cell_type": "code",
   "execution_count": null,
   "id": "a176da49-5aa8-4a39-a673-15f08cf0588c",
   "metadata": {},
   "outputs": [],
   "source": []
  },
  {
   "cell_type": "code",
   "execution_count": null,
   "id": "a91ab619-801c-4f1d-9e9f-9fb56e87b803",
   "metadata": {},
   "outputs": [],
   "source": []
  }
 ],
 "metadata": {
  "kernelspec": {
   "display_name": "Python 3 (ipykernel)",
   "language": "python",
   "name": "python3"
  },
  "language_info": {
   "codemirror_mode": {
    "name": "ipython",
    "version": 3
   },
   "file_extension": ".py",
   "mimetype": "text/x-python",
   "name": "python",
   "nbconvert_exporter": "python",
   "pygments_lexer": "ipython3",
   "version": "3.11.5"
  }
 },
 "nbformat": 4,
 "nbformat_minor": 5
}
