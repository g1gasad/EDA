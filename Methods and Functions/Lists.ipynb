{
 "cells": [
  {
   "cell_type": "code",
   "execution_count": 1,
   "id": "1141f1f4-a527-4fbe-b3f4-6c98a3ee544d",
   "metadata": {},
   "outputs": [
    {
     "name": "stdout",
     "output_type": "stream",
     "text": [
      "['Macduff', 1, 2, 3, 4, 'Banquo']\n"
     ]
    }
   ],
   "source": [
    "my_list = ['Macduff', 'Malcolm', 'Macbeth', 'Banquo']\n",
    "my_list[1:3] = [1, 2, 3, 4]\n",
    "print(my_list)\n"
   ]
  },
  {
   "cell_type": "code",
   "execution_count": 4,
   "id": "fef7a7e5-70ec-401f-a723-5e717e536ae3",
   "metadata": {},
   "outputs": [
    {
     "data": {
      "text/plain": [
       "[1, 2, 3, 'a', 'b', 'c']"
      ]
     },
     "execution_count": 4,
     "metadata": {},
     "output_type": "execute_result"
    }
   ],
   "source": [
    "num_list = [1, 2, 3]\n",
    "char_list = ['a', 'b', 'c']\n",
    "num_list + char_list\n",
    "\n",
    "# char_list - 'a'"
   ]
  },
  {
   "cell_type": "code",
   "execution_count": 95,
   "id": "4179000f-02ff-4a8e-9c4e-be6361d39b28",
   "metadata": {},
   "outputs": [
    {
     "name": "stdout",
     "output_type": "stream",
     "text": [
      "['c', 'a', 'b', 'd']\n"
     ]
    }
   ],
   "source": [
    "my_list = ['a', 'b', 'd']\n",
    "my_list.insert(0, 'c')\n",
    "print(my_list)\n"
   ]
  },
  {
   "cell_type": "code",
   "execution_count": 110,
   "id": "70144c5c-4f94-4fc2-b7be-e48a6366f49d",
   "metadata": {},
   "outputs": [
    {
     "name": "stdout",
     "output_type": "stream",
     "text": [
      "['b', 'd', 'a']\n"
     ]
    }
   ],
   "source": [
    "my_list = ['a', 'b', 'd', 'a']\n",
    "my_list.remove('a')\n",
    "print(my_list)"
   ]
  },
  {
   "cell_type": "code",
   "execution_count": 111,
   "id": "f159d38e-407b-42c2-a5d4-dbe0beecc805",
   "metadata": {},
   "outputs": [
    {
     "data": {
      "text/plain": [
       "['b', 'd']"
      ]
     },
     "execution_count": 111,
     "metadata": {},
     "output_type": "execute_result"
    }
   ],
   "source": [
    "my_list.pop()\n",
    "my_list"
   ]
  },
  {
   "cell_type": "code",
   "execution_count": 112,
   "id": "4fe2c2cc-8611-4119-bc7c-6fddc5e351c5",
   "metadata": {},
   "outputs": [],
   "source": [
    "my_list.clear()"
   ]
  },
  {
   "cell_type": "code",
   "execution_count": 127,
   "id": "5601ae39-bb19-42d4-9de6-c5debe936c13",
   "metadata": {},
   "outputs": [
    {
     "name": "stdout",
     "output_type": "stream",
     "text": [
      "0\n",
      "2\n"
     ]
    }
   ],
   "source": [
    "my_list = ['a', 'b', 'c', 'd', 'e', 'a']\n",
    "print(my_list.index('a'))\n",
    "print(my_list.count('a'))\n"
   ]
  },
  {
   "cell_type": "code",
   "execution_count": 130,
   "id": "d38ff288-9d5d-4ea5-a364-523573bc1073",
   "metadata": {},
   "outputs": [
    {
     "name": "stdout",
     "output_type": "stream",
     "text": [
      "['b', 'c', 'a']\n",
      "[3, 2, 1]\n"
     ]
    }
   ],
   "source": [
    "char_list = ['b', 'c', 'a']\n",
    "num_list = [2, 3, 1]\n",
    "# char_list.sort()\n",
    "num_list.sort(reverse=True)\n",
    "print(char_list)\n",
    "print(num_list)"
   ]
  },
  {
   "cell_type": "code",
   "execution_count": 132,
   "id": "0156d60d-31e9-40ed-9e4f-b5b648a12c37",
   "metadata": {},
   "outputs": [
    {
     "data": {
      "text/plain": [
       "['a', 'b', 'c']"
      ]
     },
     "execution_count": 132,
     "metadata": {},
     "output_type": "execute_result"
    }
   ],
   "source": [
    "sorted(char_list)"
   ]
  }
 ],
 "metadata": {
  "kernelspec": {
   "display_name": "Python 3 (ipykernel)",
   "language": "python",
   "name": "python3"
  },
  "language_info": {
   "codemirror_mode": {
    "name": "ipython",
    "version": 3
   },
   "file_extension": ".py",
   "mimetype": "text/x-python",
   "name": "python",
   "nbconvert_exporter": "python",
   "pygments_lexer": "ipython3",
   "version": "3.11.3"
  }
 },
 "nbformat": 4,
 "nbformat_minor": 5
}
