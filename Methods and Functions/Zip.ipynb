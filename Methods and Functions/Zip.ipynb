{
 "cells": [
  {
   "cell_type": "code",
   "execution_count": 2,
   "id": "50c95b1b-9dce-464a-a32f-99873510a34f",
   "metadata": {
    "tags": []
   },
   "outputs": [
    {
     "name": "stdout",
     "output_type": "stream",
     "text": [
      "<zip object at 0x0000022B0A831D40>\n",
      "[('Paris', 'France'), ('Lagos', 'Nigeria')]\n"
     ]
    }
   ],
   "source": [
    "cities = ['Paris', 'Lagos', 'Mumbai']\n",
    "countries = ['France', 'Nigeria']\n",
    "pins = [123, 352, 547]\n",
    "places = zip(cities, countries)\n",
    "\n",
    "print(places)\n",
    "print(list(places))"
   ]
  },
  {
   "cell_type": "markdown",
   "id": "a274ede4-32e3-4ce0-83f6-70567fb46402",
   "metadata": {},
   "source": [
    "Notice that, in this case, the list() function is used to generate a list of tuples from the iterator object. Here are a few things to keep in mind when using the zip() function.\n",
    "\n",
    "It works with two or more iterable objects. The given example zips two sequences, but the zip() function will accept more sequences and apply the same logic. \n",
    "\n",
    "If the input objects are of unequal length, the resulting iterator will be the same length as the shortest input.\n",
    "\n",
    "If you give it only one iterable object as an argument, the function will return an iterator that produces tuples containing only one element from that iterable at a time. "
   ]
  },
  {
   "cell_type": "code",
   "execution_count": 3,
   "id": "08412e43-ee1f-43e2-bd44-2adbdd06a973",
   "metadata": {
    "tags": []
   },
   "outputs": [
    {
     "name": "stdout",
     "output_type": "stream",
     "text": [
      "('Nikola', 'Charles', 'Marie')\n",
      "('Tesla', 'Darwin', 'Curie')\n"
     ]
    }
   ],
   "source": [
    "scientists = [('Nikola', 'Tesla'), ('Charles', 'Darwin'), ('Marie', 'Curie')]\n",
    "given_names, surnames = zip(*scientists)\n",
    "print(given_names)\n",
    "print(surnames)"
   ]
  },
  {
   "cell_type": "markdown",
   "id": "c8b386e5-10f2-4ec4-9f38-c9dba97d8546",
   "metadata": {},
   "source": [
    "Note that this operation unpacks the tuples in the original list element-wise into two tuples, thus separating the data into different variables that can be manipulated further."
   ]
  },
  {
   "cell_type": "markdown",
   "id": "0c8f7d85-64c5-47a8-9eb5-1cd6abd6d683",
   "metadata": {},
   "source": [
    "List comprehension\n",
    "One of the most useful tools in Python is \n",
    "list comprehension\n",
    ". List comprehension is a concise and efficient way to create a new list based on the values in an existing iterable object. List comprehensions take the following form:\n",
    "\n",
    "my_list = [expression for element in iterable if condition]\n",
    "\n",
    "In this syntax:\n",
    "\n",
    "expression refers to an operation or what you want to do with each element in the iterable sequence.\n",
    "\n",
    "element is the variable name that you assign to represent each item in the iterable sequence.\n",
    "\n",
    "iterable is the iterable sequence.\n",
    "\n",
    "condition is any expression that evaluates to True or False. This element is optional and is used to filter elements of the iterable sequence.\n",
    "\n",
    "Here are some examples of list comprehensions:\n",
    "\n",
    "This list comprehension adds 10 to each number in the list:"
   ]
  },
  {
   "cell_type": "code",
   "execution_count": 4,
   "id": "2411fe27-16bb-4d6d-82e3-82ca6f93648c",
   "metadata": {
    "tags": []
   },
   "outputs": [
    {
     "name": "stdout",
     "output_type": "stream",
     "text": [
      "[('E', 'n'), ('S', 'a')]\n"
     ]
    }
   ],
   "source": [
    "words = ['Emotan', 'Amina', 'Ibeno', 'Sankwala']\n",
    "new_list = [(word[0], word[-1]) for word in words if len(word) > 5]\n",
    "print(new_list)"
   ]
  },
  {
   "cell_type": "code",
   "execution_count": null,
   "id": "85d86370-ef22-452c-ba63-6d30f3880f18",
   "metadata": {},
   "outputs": [],
   "source": []
  }
 ],
 "metadata": {
  "kernelspec": {
   "display_name": "Python 3 (ipykernel)",
   "language": "python",
   "name": "python3"
  },
  "language_info": {
   "codemirror_mode": {
    "name": "ipython",
    "version": 3
   },
   "file_extension": ".py",
   "mimetype": "text/x-python",
   "name": "python",
   "nbconvert_exporter": "python",
   "pygments_lexer": "ipython3",
   "version": "3.11.5"
  }
 },
 "nbformat": 4,
 "nbformat_minor": 5
}
