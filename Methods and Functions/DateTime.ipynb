{
 "cells": [
  {
   "cell_type": "code",
   "execution_count": 20,
   "id": "8d6d1bcd-dc8e-4fe9-881c-659da50d2327",
   "metadata": {
    "tags": []
   },
   "outputs": [],
   "source": [
    "from datetime import datetime"
   ]
  },
  {
   "cell_type": "code",
   "execution_count": 24,
   "id": "9c295d3d-2476-4071-8bfa-388140415c15",
   "metadata": {
    "tags": []
   },
   "outputs": [],
   "source": [
    "dt_object = datetime.strptime(\"25/12/2022\", \"%d/%m/%Y\")"
   ]
  },
  {
   "cell_type": "code",
   "execution_count": 26,
   "id": "35ad18cc-3797-4f0d-87af-0f51508af604",
   "metadata": {
    "tags": []
   },
   "outputs": [
    {
     "data": {
      "text/plain": [
       "1671906600.0"
      ]
     },
     "execution_count": 26,
     "metadata": {},
     "output_type": "execute_result"
    }
   ],
   "source": [
    "datetime.timestamp(dt_object)"
   ]
  },
  {
   "cell_type": "code",
   "execution_count": null,
   "id": "2a2d5ae5-33fa-408e-b76c-0e3a73658690",
   "metadata": {},
   "outputs": [],
   "source": []
  }
 ],
 "metadata": {
  "kernelspec": {
   "display_name": "Python 3 (ipykernel)",
   "language": "python",
   "name": "python3"
  },
  "language_info": {
   "codemirror_mode": {
    "name": "ipython",
    "version": 3
   },
   "file_extension": ".py",
   "mimetype": "text/x-python",
   "name": "python",
   "nbconvert_exporter": "python",
   "pygments_lexer": "ipython3",
   "version": "3.11.3"
  }
 },
 "nbformat": 4,
 "nbformat_minor": 5
}
