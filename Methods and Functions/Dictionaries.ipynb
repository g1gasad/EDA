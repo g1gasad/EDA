{
 "cells": [
  {
   "cell_type": "code",
   "execution_count": 1,
   "id": "e21da06f-4ddd-415a-87ab-7797074b3c39",
   "metadata": {},
   "outputs": [],
   "source": [
    "smallest_countries = {'Africa': 'Seychelles',\n",
    "                     'Asia': 'Maldives',\n",
    "                     'Europe': 'Vatican City',\n",
    "                     'Oceania': 'Nauru',\n",
    "                     'North America': 'St. Kitts and Nevis',\n",
    "                     'South America': 'Suriname'\n",
    "                     }"
   ]
  },
  {
   "cell_type": "code",
   "execution_count": 7,
   "id": "4125e8d2-3515-4d75-b399-d43f82c4fa81",
   "metadata": {},
   "outputs": [
    {
     "data": {
      "text/plain": [
       "{'Africa': 'Seychelles',\n",
       " 'Oceania': 'Nauru',\n",
       " 'North America': 'St. Kitts and Nevis',\n",
       " 'South America': 'Suriname'}"
      ]
     },
     "execution_count": 7,
     "metadata": {},
     "output_type": "execute_result"
    }
   ],
   "source": [
    "del smallest_countries['Asia']\n",
    "smallest_countries"
   ]
  },
  {
   "cell_type": "code",
   "execution_count": 13,
   "id": "e55a92b7-394a-434a-a10a-4a404c123c22",
   "metadata": {},
   "outputs": [
    {
     "data": {
      "text/plain": [
       "False"
      ]
     },
     "execution_count": 13,
     "metadata": {},
     "output_type": "execute_result"
    }
   ],
   "source": [
    "\"Asia\" in smallest_countries"
   ]
  },
  {
   "cell_type": "code",
   "execution_count": 16,
   "id": "03e9d08d-784a-40d8-88ff-cea18bfa53f8",
   "metadata": {},
   "outputs": [
    {
     "data": {
      "text/plain": [
       "dict_items([('Africa', 'Seychelles'), ('Oceania', 'Nauru'), ('North America', 'St. Kitts and Nevis'), ('South America', 'Suriname')])"
      ]
     },
     "execution_count": 16,
     "metadata": {},
     "output_type": "execute_result"
    }
   ],
   "source": [
    "smallest_countries.items()"
   ]
  },
  {
   "cell_type": "code",
   "execution_count": 17,
   "id": "c4c4ce90-3a68-4d0a-bdf6-7773e7ad4ff7",
   "metadata": {},
   "outputs": [
    {
     "data": {
      "text/plain": [
       "dict_keys(['Africa', 'Oceania', 'North America', 'South America'])"
      ]
     },
     "execution_count": 17,
     "metadata": {},
     "output_type": "execute_result"
    }
   ],
   "source": [
    "smallest_countries.keys()"
   ]
  }
 ],
 "metadata": {
  "kernelspec": {
   "display_name": "Python 3 (ipykernel)",
   "language": "python",
   "name": "python3"
  },
  "language_info": {
   "codemirror_mode": {
    "name": "ipython",
    "version": 3
   },
   "file_extension": ".py",
   "mimetype": "text/x-python",
   "name": "python",
   "nbconvert_exporter": "python",
   "pygments_lexer": "ipython3",
   "version": "3.11.5"
  }
 },
 "nbformat": 4,
 "nbformat_minor": 5
}
