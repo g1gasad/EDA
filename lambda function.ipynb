{
 "cells": [
  {
   "cell_type": "markdown",
   "id": "7d5198c2-5b35-4b2e-89e1-fd1541822da5",
   "metadata": {},
   "source": [
    "# In Python, a lambda function is a small anonymous function without a name. "
   ]
  },
  {
   "cell_type": "code",
   "execution_count": 1,
   "id": "319a7730-fe0b-46a2-ab67-f9e839470e13",
   "metadata": {},
   "outputs": [],
   "source": [
    "import numpy as np\n",
    "import pandas as pd"
   ]
  },
  {
   "cell_type": "code",
   "execution_count": 5,
   "id": "839cd051-751e-446e-9802-303a9d8f0c37",
   "metadata": {},
   "outputs": [
    {
     "data": {
      "text/plain": [
       "18"
      ]
     },
     "execution_count": 5,
     "metadata": {},
     "output_type": "execute_result"
    }
   ],
   "source": [
    "double = lambda x: x*2\n",
    "double(9)"
   ]
  },
  {
   "cell_type": "code",
   "execution_count": 6,
   "id": "6048c315-44d4-4b2f-920c-a5600e231c1e",
   "metadata": {},
   "outputs": [
    {
     "data": {
      "text/plain": [
       "729"
      ]
     },
     "execution_count": 6,
     "metadata": {},
     "output_type": "execute_result"
    }
   ],
   "source": [
    "cube = lambda x: x*x*x\n",
    "cube(9)"
   ]
  },
  {
   "cell_type": "code",
   "execution_count": 8,
   "id": "968b8a06-728d-494d-a79d-7b62b2f316f7",
   "metadata": {},
   "outputs": [
    {
     "data": {
      "text/plain": [
       "5.5"
      ]
     },
     "execution_count": 8,
     "metadata": {},
     "output_type": "execute_result"
    }
   ],
   "source": [
    "avg = lambda x,y: (x+y)/2\n",
    "avg(6,5)"
   ]
  },
  {
   "cell_type": "code",
   "execution_count": 12,
   "id": "ea00ba2d-1bc8-4d59-8f64-ceb296df19f8",
   "metadata": {},
   "outputs": [
    {
     "data": {
      "text/plain": [
       "60"
      ]
     },
     "execution_count": 12,
     "metadata": {},
     "output_type": "execute_result"
    }
   ],
   "source": [
    "volume = lambda x,y,z: x*y*z\n",
    "volume(3,4,5)"
   ]
  },
  {
   "cell_type": "code",
   "execution_count": 17,
   "id": "32c9fd68-d72a-4127-b342-977f05c183da",
   "metadata": {},
   "outputs": [
    {
     "data": {
      "text/plain": [
       "8.5"
      ]
     },
     "execution_count": 19,
     "metadata": {},
     "output_type": "execute_result"
    }
   ],
   "source": [
    "def apply(fx, value):\n",
    "    return 6 + fx(value)\n",
    "\n",
    "apply(lambda x: x*x*x, 2)"
   ]
  },
  {
   "cell_type": "code",
   "execution_count": 21,
   "id": "0f41653d-d32e-4c5b-ae96-75a7a6eef29c",
   "metadata": {},
   "outputs": [
    {
     "data": {
      "text/plain": [
       "9.0"
      ]
     },
     "execution_count": 21,
     "metadata": {},
     "output_type": "execute_result"
    }
   ],
   "source": [
    "def apply(fx, x, y):\n",
    "    return 6 + fx(x,y)\n",
    "\n",
    "apply(lambda x,y: (x+y)/2, 2, 4)"
   ]
  },
  {
   "cell_type": "code",
   "execution_count": null,
   "id": "38258b0f-21f4-41b9-a20a-ffef4ea713a3",
   "metadata": {},
   "outputs": [],
   "source": []
  }
 ],
 "metadata": {
  "kernelspec": {
   "display_name": "Python 3 (ipykernel)",
   "language": "python",
   "name": "python3"
  },
  "language_info": {
   "codemirror_mode": {
    "name": "ipython",
    "version": 3
   },
   "file_extension": ".py",
   "mimetype": "text/x-python",
   "name": "python",
   "nbconvert_exporter": "python",
   "pygments_lexer": "ipython3",
   "version": "3.9.13"
  }
 },
 "nbformat": 4,
 "nbformat_minor": 5
}
